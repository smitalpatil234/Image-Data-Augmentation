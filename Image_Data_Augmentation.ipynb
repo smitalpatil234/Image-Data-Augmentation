{
  "cells": [
    {
      "cell_type": "markdown",
      "metadata": {
        "id": "G8OttFBfl39d"
      },
      "source": [
        "# Image Data Augmentation with Keras\n",
        "\n",
        "![Horizontal Flip](assets/horizontal_flip.jpg)"
      ]
    },
    {
      "cell_type": "markdown",
      "metadata": {
        "id": "u7pv8pjll39m"
      },
      "source": [
        "# Import Libraries"
      ]
    },
    {
      "cell_type": "code",
      "execution_count": null,
      "metadata": {
        "id": "8Jc-IGuyl39p"
      },
      "outputs": [],
      "source": [
        "%matplotlib inline\n",
        "\n",
        "import os\n",
        "import numpy as np\n",
        "import tensorflow as tf\n",
        "\n",
        "from PIL import Image\n",
        "from matplotlib import pyplot as plt\n",
        "\n",
        "print('Using TensorFlow', tf.__version__)"
      ]
    },
    {
      "cell_type": "markdown",
      "metadata": {
        "id": "H0ryGXsjl39v"
      },
      "source": [
        "# Rotation"
      ]
    },
    {
      "cell_type": "code",
      "execution_count": null,
      "metadata": {
        "id": "neYnbPYol39w"
      },
      "outputs": [],
      "source": [
        "generator = tf.keras.preprocessing.image.ImageDataGenerator(\n",
        "    rotation_range=40\n",
        ")"
      ]
    },
    {
      "cell_type": "code",
      "execution_count": null,
      "metadata": {
        "id": "1Cb3XbKDl39y"
      },
      "outputs": [],
      "source": [
        "image_path = 'images/train/cat/cat.jpg'\n",
        "\n",
        "plt.imshow(plt.imread(image_path));"
      ]
    },
    {
      "cell_type": "code",
      "execution_count": null,
      "metadata": {
        "id": "a1v76eael39z"
      },
      "outputs": [],
      "source": [
        "x, y = next(generator.flow_from_directory('images', batch_size=1))\n",
        "plt.imshow(x[0].astype('uint8'));"
      ]
    },
    {
      "cell_type": "markdown",
      "metadata": {
        "id": "66sdh35xl39z"
      },
      "source": [
        "# Width and Height Shifts"
      ]
    },
    {
      "cell_type": "code",
      "execution_count": null,
      "metadata": {
        "id": "LEzGzpDvl390"
      },
      "outputs": [],
      "source": [
        "generator = tf.keras.preprocessing.image.ImageDataGenerator(\n",
        "    width_shift_range=[-40, -20, 0, 20, 40],\n",
        "    height_shift_range=[-50,50]\n",
        ")"
      ]
    },
    {
      "cell_type": "code",
      "execution_count": null,
      "metadata": {
        "id": "B52Blh4Bl391"
      },
      "outputs": [],
      "source": [
        "x, y = next(generator.flow_from_directory('images', batch_size=1))\n",
        "plt.imshow(x[0].astype('uint8'));"
      ]
    },
    {
      "cell_type": "markdown",
      "metadata": {
        "id": "-Tz_8lPkl393"
      },
      "source": [
        "# Brightness"
      ]
    },
    {
      "cell_type": "code",
      "execution_count": null,
      "metadata": {
        "id": "RUoX1H-Yl394"
      },
      "outputs": [],
      "source": [
        "generator = tf.keras.preprocessing.image.ImageDataGenerator(\n",
        "    brightness_range=(0., 2.)\n",
        ")\n",
        "\n",
        "x, y = next(generator.flow_from_directory('images', batch_size=1))\n",
        "plt.imshow(x[0].astype('uint8'));"
      ]
    },
    {
      "cell_type": "markdown",
      "metadata": {
        "id": "HeKsUM6pl395"
      },
      "source": [
        "# Shear Transformation"
      ]
    },
    {
      "cell_type": "code",
      "execution_count": null,
      "metadata": {
        "id": "95fBnNCMl395"
      },
      "outputs": [],
      "source": [
        "generator = tf.keras.preprocessing.image.ImageDataGenerator(\n",
        "    shear_range=45\n",
        ")\n",
        "\n",
        "x, y = next(generator.flow_from_directory('images', batch_size=1))\n",
        "plt.imshow(x[0].astype('uint8'));"
      ]
    },
    {
      "cell_type": "markdown",
      "metadata": {
        "id": "oCwvDQsyl396"
      },
      "source": [
        "# Zoom"
      ]
    },
    {
      "cell_type": "code",
      "execution_count": null,
      "metadata": {
        "id": "31iAbu0zl396"
      },
      "outputs": [],
      "source": [
        "generator = tf.keras.preprocessing.image.ImageDataGenerator(\n",
        "    zoom_range=0.5\n",
        ")\n",
        "\n",
        "x, y = next(generator.flow_from_directory('images', batch_size=1))\n",
        "plt.imshow(x[0].astype('uint8'));"
      ]
    },
    {
      "cell_type": "markdown",
      "metadata": {
        "id": "vx1qoTSQl397"
      },
      "source": [
        "# Channel Shift"
      ]
    },
    {
      "cell_type": "code",
      "execution_count": null,
      "metadata": {
        "id": "ihNHj5qRl398"
      },
      "outputs": [],
      "source": [
        "generator = tf.keras.preprocessing.image.ImageDataGenerator(\n",
        "    channel_shift_range=100\n",
        ")\n",
        "\n",
        "x, y = next(generator.flow_from_directory('images', batch_size=1))\n",
        "plt.imshow(x[0].astype('uint8'));"
      ]
    },
    {
      "cell_type": "markdown",
      "metadata": {
        "id": "BNBKkHvll398"
      },
      "source": [
        "# Flips"
      ]
    },
    {
      "cell_type": "code",
      "execution_count": null,
      "metadata": {
        "id": "VZKW5FQjl399"
      },
      "outputs": [],
      "source": [
        "generator = tf.keras.preprocessing.image.ImageDataGenerator(\n",
        "    horizontal_flip=True,\n",
        "    vertical_flip=True\n",
        ")\n",
        "\n",
        "x, y = next(generator.flow_from_directory('images', batch_size=1))\n",
        "plt.imshow(x[0].astype('uint8'));"
      ]
    },
    {
      "cell_type": "markdown",
      "metadata": {
        "id": "vVTrSI2Il399"
      },
      "source": [
        "# Normalization\n",
        "\n",
        "### Featurewise"
      ]
    },
    {
      "cell_type": "code",
      "execution_count": null,
      "metadata": {
        "id": "II6VncIPl39-"
      },
      "outputs": [],
      "source": [
        "(x_train, y_train), (x_test, y_test) = tf.keras.datasets.cifar10.load_data()\n",
        "\n",
        "generator = tf.keras.preprocessing.image.ImageDataGenerator(\n",
        "    featurewise_center=True,\n",
        "    featurewise_std_normalization=True\n",
        ")\n",
        "\n",
        "generator.fit(x_train)"
      ]
    },
    {
      "cell_type": "code",
      "execution_count": null,
      "metadata": {
        "id": "gMHbD7hol39-"
      },
      "outputs": [],
      "source": [
        "x, y = next(generator.flow(x_train, y_train, batch_size=1))\n",
        "print(x.mean(), x.std(), y)\n",
        "print(x_train.mean())"
      ]
    },
    {
      "cell_type": "markdown",
      "metadata": {
        "id": "VpALLZQhl39_"
      },
      "source": [
        "### Samplewise"
      ]
    },
    {
      "cell_type": "code",
      "execution_count": null,
      "metadata": {
        "id": "Ppux_clpl39_"
      },
      "outputs": [],
      "source": [
        "generator = tf.keras.preprocessing.image.ImageDataGenerator(\n",
        "    samplewise_center=True,\n",
        "    samplewise_std_normalization=True\n",
        ")\n",
        "\n",
        "x, y = next(generator.flow(x_train, y_train, batch_size=1))\n",
        "print(x.mean(), x.std(), y)"
      ]
    },
    {
      "cell_type": "markdown",
      "metadata": {
        "id": "vDGoIpXJl39_"
      },
      "source": [
        "# Rescale and Preprocessing Function"
      ]
    },
    {
      "cell_type": "code",
      "execution_count": null,
      "metadata": {
        "id": "7U3oX3dZl3-A"
      },
      "outputs": [],
      "source": [
        "generator = tf.keras.preprocessing.image.ImageDataGenerator(\n",
        "    preprocessing_function=tf.keras.applications.mobilenet_v2.preprocess_input,\n",
        "    rescale=1.\n",
        ")"
      ]
    },
    {
      "cell_type": "code",
      "execution_count": null,
      "metadata": {
        "id": "B7fDHe5Hl3-A"
      },
      "outputs": [],
      "source": [
        "x, y = next(generator.flow(x_train, y_train, batch_size=1))"
      ]
    },
    {
      "cell_type": "code",
      "execution_count": null,
      "metadata": {
        "id": "hH1UrFHwl3-A"
      },
      "outputs": [],
      "source": [
        "print(x.mean(), x.std(), y)"
      ]
    },
    {
      "cell_type": "markdown",
      "metadata": {
        "id": "6p78ituIl3-B"
      },
      "source": [
        "# Using in Model Training"
      ]
    },
    {
      "cell_type": "code",
      "execution_count": null,
      "metadata": {
        "id": "-rrqBMGXl3-B"
      },
      "outputs": [],
      "source": [
        "model = tf.keras.models.Sequential([\n",
        "    tf.keras.applications.mobilenet_v2.MobileNetV2(include_top=False, input_shape=(32, 32, 3), pooling='avg'),\n",
        "    tf.keras.layers.Dense(10, activation='softmax')\n",
        "])\n",
        "\n",
        "model.compile(loss='sparse_categorical_crossentropy', optimizer='adam', metrics=['accuracy'])"
      ]
    },
    {
      "cell_type": "code",
      "execution_count": null,
      "metadata": {
        "id": "_WPnqHT1l3-C"
      },
      "outputs": [],
      "source": [
        "_ = model.fit(\n",
        "    generator.flow(x_train, y_train, batch_size=32),\n",
        "    steps_per_epoch=10, epochs=1\n",
        ")"
      ]
    },
    {
      "cell_type": "code",
      "execution_count": null,
      "metadata": {
        "id": "JY9nqmm9l3-C"
      },
      "outputs": [],
      "source": []
    }
  ],
  "metadata": {
    "kernelspec": {
      "display_name": "Python 3",
      "language": "python",
      "name": "python3"
    },
    "language_info": {
      "codemirror_mode": {
        "name": "ipython",
        "version": 3
      },
      "file_extension": ".py",
      "mimetype": "text/x-python",
      "name": "python",
      "nbconvert_exporter": "python",
      "pygments_lexer": "ipython3",
      "version": "3.6.8"
    },
    "colab": {
      "provenance": []
    }
  },
  "nbformat": 4,
  "nbformat_minor": 0
}